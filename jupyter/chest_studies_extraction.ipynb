{
 "cells": [
  {
   "cell_type": "code",
   "execution_count": null,
   "metadata": {},
   "outputs": [],
   "source": [
    "## Establish connection to Orthanc server\n",
    "\n",
    "from utils import queryStudies\n",
    "from pyorthanc import Orthanc, RemoteModality\n",
    "orthanc = Orthanc('http://orthanc:8042')\n",
    "orthanc.setup_credentials('user', 'password')\n",
    "print(orthanc.get_modalities())\n",
    "PACS = \"FMC\"\n",
    "remote_modality = RemoteModality(orthanc, PACS)\n",
    "print(remote_modality.echo())"
   ]
  },
  {
   "cell_type": "code",
   "execution_count": null,
   "id": "93c7d560",
   "metadata": {},
   "outputs": [],
   "source": [
    "## Get the database values.\n",
    "## Choose which Modalities you want to access.\n",
    "## Use this as a reference: https://www.dicomlibrary.com/dicom/modality/\n",
    "\n",
    "import pandas as pd\n",
    "from utils import create_dateRanges, queryStudies, checkpointer\n",
    "\n",
    "start = pd.Timestamp('20000101')\n",
    "end = pd.Timestamp('20220101')\n",
    "date_ranges = create_dateRanges(start, end, 100)\n",
    "\n",
    "# Include \"*chest*\" in search because this is ubiquitous in final study\n",
    "#  descriptions post filtering.\n",
    "print('\\nBegining CR search...')\n",
    "\n",
    "\n",
    "query_CRchest_studies = lambda x: queryStudies(\n",
    "    orthanc,\n",
    "    PACS,\n",
    "    StudyDate=x,\n",
    "    StudyDescription=\"*chest*\",\n",
    "    ModalitiesInStudy=\"*CR*\"\n",
    ")\n",
    "query_CRchest_studies.__name__ = 'query_CRchest_studies'\n",
    "studies_CRchest = checkpointer(query_CRchest_studies, date_ranges, 1)"
   ]
  },
  {
   "cell_type": "code",
   "execution_count": null,
   "id": "7bdbaf07",
   "metadata": {},
   "outputs": [],
   "source": [
    "print('\\nBegining DX search...')\n",
    "\n",
    "query_DXchest_studies = lambda x: queryStudies(\n",
    "    orthanc,\n",
    "    PACS,\n",
    "    StudyDate=x,\n",
    "    StudyDescription=\"*chest*\",\n",
    "    ModalitiesInStudy=\"*DX*\"\n",
    ")\n",
    "query_DXchest_studies.__name__ = 'query_DXchest_studies'\n",
    "studies_DXchest = checkpointer(query_DXchest_studies, date_ranges, 1)\n",
    "\n",
    "# studies_DXchest = queryStudies(\n",
    "#     orthanc,\n",
    "#     PACS,\n",
    "#     StudyDate=date_ranges[:1],\n",
    "#     StudyDescription=\"*chest*\",\n",
    "#     ModalitiesInStudy=\"*DX*\"\n",
    "# )"
   ]
  },
  {
   "cell_type": "code",
   "execution_count": null,
   "id": "9597dfc0",
   "metadata": {},
   "outputs": [],
   "source": [
    "print('\\nBeginning CT search...')\n",
    "query_CTchest_studies = lambda x: queryStudies(\n",
    "    orthanc,\n",
    "    PACS,\n",
    "    StudyDate=x,\n",
    "    StudyDescription=\"*chest*\",\n",
    "    ModalitiesInStudy=\"*CT*\"\n",
    ")\n",
    "query_CTchest_studies.__name__ = 'query_CTchest_studies'\n",
    "studies_CTchest = checkpointer(query_CTchest_studies, date_ranges, 1)\n",
    "\n",
    "# studies_CTchest = queryStudies(\n",
    "#     orthanc,\n",
    "#     PACS,\n",
    "#     StudyDate=date_ranges[:1],\n",
    "#     StudyDescription=\"*chest*\",\n",
    "#     ModalitiesInStudy=\"*CT*\"\n",
    "# )"
   ]
  },
  {
   "cell_type": "code",
   "execution_count": null,
   "id": "59b39427",
   "metadata": {},
   "outputs": [],
   "source": [
    "studies_all = [studies_CRchest,\n",
    "                studies_DXchest,\n",
    "                studies_CTchest]\n"
   ]
  },
  {
   "cell_type": "code",
   "execution_count": null,
   "id": "4396e741",
   "metadata": {},
   "outputs": [],
   "source": [
    "print(len(studies_all[0]))\n",
    "print(len(studies_all[1]))\n",
    "print(len(studies_all[2]))"
   ]
  },
  {
   "cell_type": "code",
   "execution_count": null,
   "id": "5029a563",
   "metadata": {},
   "outputs": [],
   "source": [
    "import itertools\n",
    "\n",
    "studies_list = list(itertools.chain(*studies_all))\n",
    "print(len(studies_list))\n",
    "reduced_list = [x for x in studies_list if x != []]\n",
    "print(len(reduced_list))"
   ]
  },
  {
   "cell_type": "code",
   "execution_count": null,
   "id": "4976a218",
   "metadata": {},
   "outputs": [],
   "source": [
    "from utils import studieslist2df, months_between_df\n",
    "import itertools \n",
    "import pandas as pd\n",
    "# Convert list of queries into dataframe\n",
    "studies_df = studieslist2df(studies_all)\n",
    "\n",
    "# studiesList = list(itertools.chain(*studies_all))\n",
    "# studiesList = [x for x in studiesList if x != []]\n",
    "# print(studiesList.count([]))\n",
    "# studies_df = pd.DataFrame(studiesList)\n",
    "\n",
    "# studies_df \n",
    "\n",
    "# # Remove duplicates and nans\n",
    "studies_df.dropna(inplace=True)\n",
    "studies_df.drop_duplicates(subset='AccessionNumber', inplace=True)\n",
    "# # Change study description to lowercase\n",
    "studies_df['StudyDescription'] = studies_df['StudyDescription'].str.lower()\n",
    "# # Add 'PatientAgeMonths' column to dataframe\n",
    "datePairs = list(zip(studies_df['PatientBirthDate'],studies_df['StudyDate']))\n",
    "studies_df['datePairs'] = datePairs\n",
    "studies_df['PatientAgeMonths'] = studies_df.datePairs.apply(lambda x: months_between_df(x))    \n",
    "studies_df\n"
   ]
  },
  {
   "cell_type": "code",
   "execution_count": null,
   "id": "71a7c3a2",
   "metadata": {},
   "outputs": [],
   "source": [
    "## Filter studies\n",
    "from utils import months_between_df\n",
    "\n",
    "studies_df_filter = studies_df\n",
    "\n",
    "## Filter based on study descriptions\n",
    "# To filter, write a term you want to remove in the remove_terms, then rerun \n",
    "#  this cell. The remaining study descriptions will be displayed, allowing\n",
    "#  for the next terms to be selected.  \n",
    "# The target here is to remove images which aren't useful. We want to be \n",
    "#  specific, not sensitive, meaning it's better to remove some possibly \n",
    "#  useful images if it means removing more of the disruptive CTs.\n",
    "# keep_terms=['chest', 'torso', 'thora']\n",
    "\n",
    "# remove_terms=['abdomen', 'pelvis', 'right', 'left', 'spine', 'brain', 'head', 'external', 'angiogram', 'whole body', 'skeletal', 'neck']\n",
    "# keep_string=\"|\".join(keep_terms)\n",
    "# remove_string = \"|\".join(remove_terms)\n",
    "\n",
    "# studies_df_filter = studies_df_filter[\n",
    "#     ~studies_df_filter['StudyDescription'].str.contains(remove_string, regex=True)\n",
    "#     & studies_df_filter['StudyDescription'].str.contains(keep_string, regex=True)\n",
    "#     ]\n",
    "print(studies_df_filter['StudyDescription'].value_counts())\n",
    "\n",
    "\n",
    "# Remove non M/F sexes\n",
    "studies_df_filter = studies_df_filter[studies_df_filter['PatientSex'].isin(['M', 'F'])]\n",
    "print(studies_df_filter['PatientSex'].value_counts())\n",
    "\n",
    "# # Filter by modalities\n",
    "# # print(studies_df['ModalitiesInStudy'].value_counts())\n",
    "# modalities = studies_df_filter[['ModalitiesInStudy']].values_counts()\n",
    "# unique_modalities = np.unique(modalities)\n",
    "# individual_modalities = [modality.split(\"\\\\\") for modality in unique_modalities]\n",
    "# individual_modalities = list(set(itertools.chain(*individual_modalities)))\n",
    "# print(individual_modalities)\n",
    "\n",
    "# # Check these against the DICOM format to see which should be removed\n",
    "# # https://www.dicomlibrary.com/dicom/modality/\n",
    "# remove_modalities = \"PT\"\n",
    "# studies_df_filter = studies_df_filter[~studies_df_filter['ModalitiesInStudy'].str.contains(remove_modalities, regex=True)]\n",
    "# print(studies_df_filter['ModalitiesInStudy'].value_counts())\n",
    "\n",
    "# Filter based on age limits of 18 - 90\n",
    "# 18 to 90 years is equivalent to 216 to 1080 months\n",
    "studies_df_filter = studies_df_filter[studies_df_filter['PatientAgeMonths']>216]\n",
    "studies_df_filter = studies_df_filter[studies_df_filter['PatientAgeMonths']<1080]\n",
    "studies_df_filter['PatientAgeMonths'].hist(bins=100)\n",
    "studies_df_filter"
   ]
  },
  {
   "cell_type": "code",
   "execution_count": null,
   "id": "ad5ab1ae",
   "metadata": {},
   "outputs": [],
   "source": [
    "## Check how many studies have been filtered out\n",
    "print(\"Initial number of studies: {}\".format(len(studies_df)))\n",
    "print(\"Final number of studies {}\".format(len(studies_df_filter)))\n",
    "print(\"Number of studies removed = {}\".format(len(studies_df)-len(studies_df_filter)))"
   ]
  },
  {
   "cell_type": "code",
   "execution_count": null,
   "id": "d6e6ec01",
   "metadata": {},
   "outputs": [],
   "source": [
    "## Save minimum necessary information for studies\n",
    "# studies_df_save = studies_df_filter[['AccessionNumber','ModalitiesInStudy','PatientSex','PatientAgeMonths','StudyDescription', 'NumberOfStudyRelatedSeries','StudyInstanceUID']]\n",
    "studies_df_filter.to_json('../data_to_get/all_chest_studies.json')\n",
    "studies_df_filter.to_csv('../data_to_get/all_chest_studies.csv')\n"
   ]
  },
  {
   "cell_type": "code",
   "execution_count": 2,
   "id": "19748622",
   "metadata": {},
   "outputs": [
    {
     "name": "stdout",
     "output_type": "stream",
     "text": [
      "582612\n"
     ]
    }
   ],
   "source": [
    "# Test data was properly saved\n",
    "import pandas as pd\n",
    "studies_df = pd.read_json('../data_to_get/all_chest_studies.json')\n",
    "print(len(studies_df))"
   ]
  },
  {
   "cell_type": "code",
   "execution_count": 5,
   "id": "ae2a750f",
   "metadata": {},
   "outputs": [
    {
     "name": "stdout",
     "output_type": "stream",
     "text": [
      "[2, 3, 4, 12, 3, 5, 6, [], 2]\n"
     ]
    }
   ],
   "source": [
    "import itertools\n",
    "import time\n",
    "\n",
    "a = [[2,3,4], [], [12,3], [],[],[5,6], [[],2]]\n",
    "print(list(itertools.chain(*a)))\n",
    "\n",
    "studies_df=None\n"
   ]
  },
  {
   "cell_type": "code",
   "execution_count": null,
   "id": "a3935c30",
   "metadata": {},
   "outputs": [],
   "source": []
  },
  {
   "cell_type": "code",
   "execution_count": null,
   "id": "fbfd88b9",
   "metadata": {},
   "outputs": [],
   "source": []
  },
  {
   "cell_type": "code",
   "execution_count": null,
   "id": "47b248b2",
   "metadata": {},
   "outputs": [],
   "source": []
  },
  {
   "cell_type": "code",
   "execution_count": null,
   "id": "9fbdac62",
   "metadata": {},
   "outputs": [],
   "source": []
  },
  {
   "cell_type": "code",
   "execution_count": null,
   "id": "6031b382",
   "metadata": {},
   "outputs": [],
   "source": []
  },
  {
   "cell_type": "code",
   "execution_count": null,
   "metadata": {},
   "outputs": [],
   "source": []
  },
  {
   "cell_type": "code",
   "execution_count": null,
   "id": "91b1bdbb",
   "metadata": {},
   "outputs": [],
   "source": []
  },
  {
   "cell_type": "code",
   "execution_count": null,
   "id": "cc12adf3",
   "metadata": {},
   "outputs": [],
   "source": []
  },
  {
   "cell_type": "code",
   "execution_count": null,
   "id": "65265543",
   "metadata": {},
   "outputs": [],
   "source": []
  }
 ],
 "metadata": {
  "kernelspec": {
   "display_name": "Python 3 (ipykernel)",
   "language": "python",
   "name": "python3"
  },
  "language_info": {
   "codemirror_mode": {
    "name": "ipython",
    "version": 3
   },
   "file_extension": ".py",
   "mimetype": "text/x-python",
   "name": "python",
   "nbconvert_exporter": "python",
   "pygments_lexer": "ipython3",
   "version": "3.9.7"
  }
 },
 "nbformat": 4,
 "nbformat_minor": 5
}
