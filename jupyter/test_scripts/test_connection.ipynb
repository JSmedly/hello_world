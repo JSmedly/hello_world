{
 "cells": [
  {
   "cell_type": "markdown",
   "metadata": {},
   "source": [
    "Output should be a list of the names of the modalities specified in 'DicomModalities' from the orthanc.json file."
   ]
  },
  {
   "cell_type": "code",
   "execution_count": 2,
   "metadata": {},
   "outputs": [
    {
     "name": "stdout",
     "output_type": "stream",
     "text": [
      "['DataCentre', 'FMC', 'sample']\n",
      "True\n"
     ]
    }
   ],
   "source": [
    "from pyorthanc import Orthanc, RemoteModality\n",
    "\n",
    "orthanc = Orthanc('http://orthanc:8042')\n",
    "orthanc.setup_credentials('user', 'password')\n",
    "print(orthanc.get_modalities())\n",
    "\n",
    "PACS = \"FMC\"\n",
    "remote_modality = RemoteModality(orthanc, PACS)\n",
    "print(remote_modality.echo())\n"
   ]
  },
  {
   "cell_type": "code",
   "execution_count": 7,
   "metadata": {},
   "outputs": [
    {
     "name": "stdout",
     "output_type": "stream",
     "text": [
      "4.5.5\n"
     ]
    }
   ],
   "source": [
    "import utils\n",
    "import cv2\n",
    "import pydicom\n",
    "\n",
    "print(cv2.__version__)"
   ]
  }
 ],
 "metadata": {
  "kernelspec": {
   "display_name": "Python 3 (ipykernel)",
   "language": "python",
   "name": "python3"
  },
  "language_info": {
   "codemirror_mode": {
    "name": "ipython",
    "version": 3
   },
   "file_extension": ".py",
   "mimetype": "text/x-python",
   "name": "python",
   "nbconvert_exporter": "python",
   "pygments_lexer": "ipython3",
   "version": "3.9.7"
  }
 },
 "nbformat": 4,
 "nbformat_minor": 2
}
